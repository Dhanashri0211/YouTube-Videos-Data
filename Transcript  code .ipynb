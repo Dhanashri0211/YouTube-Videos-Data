{
 "cells": [
  {
   "cell_type": "code",
   "execution_count": 18,
   "metadata": {},
   "outputs": [],
   "source": [
    "from youtube_transcript_api import YouTubeTranscriptApi as yta;\n",
    "import re;"
   ]
  },
  {
   "cell_type": "code",
   "execution_count": 19,
   "metadata": {},
   "outputs": [],
   "source": [
    "#16 https://www.youtube.com/watch?v=DgqPoB-iFX8\n",
    "#17 https://www.youtube.com/watch?v=qI7SAc6eFOU\n",
    "#18 https://www.youtube.com/watch?v=ryy6Su0qaAU\n",
    "#19 https://www.youtube.com/watch?v=KuW_hely1Ss\n",
    "#20 https://www.youtube.com/watch?v=wc3JoMwVqL4\n",
    "#21 https://www.youtube.com/watch?v=wZfFIDXpVzQ\n",
    "#22 https://www.youtube.com/watch?v=KUkWPz25wyw\n",
    "#23 https://www.youtube.com/watch?v=uh68DRXY8pg\n",
    "#24 https://www.youtube.com/watch?v=Qo84sV_6THY\n",
    "#25 https://www.youtube.com/watch?v=EoCbs0D6kzE\n",
    "#26 https://www.youtube.com/watch?v=7jsq9tm-TPs\n",
    "#27 https://www.youtube.com/watch?v=_Hi-7mZ2RR4\n",
    "#28 https://www.youtube.com/watch?v=d97NK235iu0\n",
    "#29 https://www.youtube.com/watch?v=zmd28cp5EKs\n",
    "#30 https://www.youtube.com/watch?v=t_15L5S2Yo4\n",
    "#31 https://www.youtube.com/watch?v=AJIFoRFKyiM\n",
    "#32 https://www.youtube.com/watch?v=EXakQ2ZKaa4\n",
    "#33 https://www.youtube.com/watch?v=rBbhUKoBm_Q\n",
    "#34 https://www.youtube.com/watch?v=t_wdQaKK2fk\n",
    "#35 https://www.youtube.com/watch?v=hhKzkRluG_M\n",
    "#36 https://www.youtube.com/watch?v=TiHNqAEcqPM\n",
    "#37 https://www.youtube.com/watch?v=DKjfLuQ69to\n",
    "#38 https://www.youtube.com/watch?v=ri6JK8jYJ-Q\n",
    "#39 https://www.youtube.com/watch?v=7ly5irNd_rk\n",
    "#40 https://www.youtube.com/watch?v=P7wcsfttDSY\n",
    "v_id= \"3LXZW_A4D5A\""
   ]
  },
  {
   "cell_type": "code",
   "execution_count": 20,
   "metadata": {},
   "outputs": [],
   "source": [
    "data= yta.get_transcript(v_id)"
   ]
  },
  {
   "cell_type": "code",
   "execution_count": 21,
   "metadata": {},
   "outputs": [],
   "source": [
    "transcript=\"\"\n",
    "for value in data:\n",
    "    for key, val in value.items():\n",
    "        if key=='text':\n",
    "            transcript += val\n",
    "\n",
    "l= transcript.splitlines()\n",
    "final_tra= \" \".join(l)"
   ]
  },
  {
   "cell_type": "code",
   "execution_count": 22,
   "metadata": {},
   "outputs": [],
   "source": [
    "file = open(\"./Data/Video37.txt\", 'w', encoding=\"utf-8\")\n",
    "file.write(final_tra)\n",
    "file.close()"
   ]
  },
  {
   "cell_type": "code",
   "execution_count": null,
   "metadata": {},
   "outputs": [],
   "source": []
  }
 ],
 "metadata": {
  "kernelspec": {
   "display_name": "Python 3",
   "language": "python",
   "name": "python3"
  },
  "language_info": {
   "codemirror_mode": {
    "name": "ipython",
    "version": 3
   },
   "file_extension": ".py",
   "mimetype": "text/x-python",
   "name": "python",
   "nbconvert_exporter": "python",
   "pygments_lexer": "ipython3",
   "version": "3.8.3"
  }
 },
 "nbformat": 4,
 "nbformat_minor": 4
}
